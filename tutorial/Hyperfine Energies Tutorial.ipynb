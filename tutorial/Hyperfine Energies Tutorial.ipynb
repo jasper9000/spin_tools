{
 "cells": [
  {
   "cell_type": "markdown",
   "id": "e77d80f0",
   "metadata": {},
   "source": [
    "# Tutorial notebook: Calculate atomic state energies in a B field\n",
    "### contents:\n",
    " 1. Breit-Rabi formula\n",
    " 2. Numerical calculation"
   ]
  },
  {
   "cell_type": "markdown",
   "id": "3fdd1512",
   "metadata": {},
   "source": [
    "Import the relevant libraries. Make sure you have all of them installed with `conda install -c conda-forge packageName`.\n",
    "Also, make sure you installed the `spin_tools` package via `conda develop .` while in the root directory of `spin_tools`."
   ]
  },
  {
   "cell_type": "code",
   "execution_count": null,
   "id": "7cb56d4c",
   "metadata": {},
   "outputs": [],
   "source": [
    "import numpy as np\n",
    "import matplotlib.pyplot as plt\n",
    "import spin_tools as sp\n",
    "import spin_tools.physics.constants as constants"
   ]
  },
  {
   "cell_type": "code",
   "execution_count": null,
   "id": "b8d3651d",
   "metadata": {},
   "outputs": [],
   "source": [
    "# magic\n",
    "%matplotlib notebook\n",
    "%load_ext autoreload\n",
    "%autoreload 2"
   ]
  },
  {
   "cell_type": "markdown",
   "id": "26129689",
   "metadata": {},
   "source": [
    "# 1.) use the Breit Rabi formula (only for J=1/2)"
   ]
  },
  {
   "cell_type": "markdown",
   "id": "6a39ecbc",
   "metadata": {},
   "source": [
    "## a.) for a single energy difference"
   ]
  },
  {
   "cell_type": "markdown",
   "id": "b0305ffb",
   "metadata": {},
   "source": [
    "To see available atoms, type sp.K or sp.Rb and use `Tab` autocompletion. Make sure you always use brackets behind the name of the atom, like this: `atom = sp.K40_4S_J12()`."
   ]
  },
  {
   "cell_type": "code",
   "execution_count": null,
   "id": "a1a5d39b",
   "metadata": {},
   "outputs": [],
   "source": [
    "B = 35 # G\n",
    "atom = sp.K40_4S_J12()\n",
    "F = 9/2\n",
    "\n",
    "data_single_B = sp.E_hf_breit_rabi(B, atom, F)\n",
    "offset_single_B = sp.E_hf_breit_rabi(0, atom, F)"
   ]
  },
  {
   "cell_type": "markdown",
   "id": "8f1b8a78",
   "metadata": {},
   "source": [
    "`data` contains the state energies in MHz at B for the individual mF states. The zero point of the energies is the energy of the LS coupled state (try it by setting B=0). To get rid of the offset, substract `sp.E_hf_breit_rabi(0, atom, F)`."
   ]
  },
  {
   "cell_type": "code",
   "execution_count": null,
   "id": "e344114c",
   "metadata": {},
   "outputs": [],
   "source": [
    "data_single_B - offset_single_B"
   ]
  },
  {
   "cell_type": "markdown",
   "id": "5e80919d",
   "metadata": {},
   "source": [
    "To get energy differences, index the array. In this example, the energy difference between mF=-9/2 and mF=-7/2 at B in MHz can be calculated like this:"
   ]
  },
  {
   "cell_type": "code",
   "execution_count": null,
   "id": "f03e07d1",
   "metadata": {},
   "outputs": [],
   "source": [
    "abs(data_single_B[0] - data_single_B[1])"
   ]
  },
  {
   "cell_type": "markdown",
   "id": "4edad4b0",
   "metadata": {},
   "source": [
    "## b.) for ranges of B"
   ]
  },
  {
   "cell_type": "code",
   "execution_count": null,
   "id": "c8b1df22",
   "metadata": {},
   "outputs": [],
   "source": [
    "# define a value or an array of values for the B field (in z direction) in Gauss\n",
    "B = np.linspace(150, 250, 3000)\n",
    "# or \n",
    "B_range = np.arange(0, 1000, 0.1)\n",
    "\n",
    "atom = sp.Rb87_5S_J12()\n",
    "F = 2\n",
    "\n",
    "data_range_B = sp.E_hf_breit_rabi(B_range, atom, F)\n",
    "offset_range_B = sp.E_hf_breit_rabi(np.zeros_like(B_range), atom, F)\n",
    "data_range_B_offset = data_range_B - offset_range_B"
   ]
  },
  {
   "cell_type": "markdown",
   "id": "85a50550",
   "metadata": {},
   "source": [
    "`data` now is a 2D array. To get all B values for a single mF state, index it via `data_range_B_offset[3]` (mF=2 in this example)."
   ]
  },
  {
   "cell_type": "code",
   "execution_count": null,
   "id": "26cf674e",
   "metadata": {},
   "outputs": [],
   "source": [
    "fig_1, ax = plt.subplots(1,1)\n",
    "ax.plot(B_range, data_range_B_offset[3]/constants.h*1e-6)\n",
    "ax.set_xlabel(\"B [G]\")\n",
    "ax.set_ylabel(\"state energy [MHz]\")\n",
    "plt.show()"
   ]
  },
  {
   "cell_type": "markdown",
   "id": "b83421ec",
   "metadata": {},
   "source": [
    "To show all traces:"
   ]
  },
  {
   "cell_type": "code",
   "execution_count": null,
   "id": "d019cfe2",
   "metadata": {
    "scrolled": false
   },
   "outputs": [],
   "source": [
    "fig_2, ax = plt.subplots(1,1)\n",
    "ax.plot(B_range, data_range_B_offset.T/constants.h*1e-6)\n",
    "ax.set_xlabel(\"B [G]\")\n",
    "ax.set_ylabel(\"state energy [MHz]\")\n",
    "plt.show()"
   ]
  },
  {
   "cell_type": "markdown",
   "id": "4add3c95",
   "metadata": {},
   "source": [
    "# 2.) use the numerical calculation"
   ]
  },
  {
   "cell_type": "code",
   "execution_count": null,
   "id": "7f3a51e0",
   "metadata": {},
   "outputs": [],
   "source": [
    "B = 35 # G\n",
    "atom = sp.K40_4P_J32()\n",
    "\n",
    "data_single_B_num = sp.E_hf_numerical(B, atom)\n",
    "offset_single_B_num = sp.E_hf_numerical(0, atom)"
   ]
  },
  {
   "cell_type": "markdown",
   "id": "c99f00cb",
   "metadata": {},
   "source": [
    "Here, `data` is structured differently. The whole manifold is calculated at once, so all mF states of all F states are contained in `data`, which sums up to 36 states for K40_4P_J32 in this example.\n",
    "The hard part is to know which state is which."
   ]
  },
  {
   "cell_type": "code",
   "execution_count": null,
   "id": "99653124",
   "metadata": {
    "scrolled": false
   },
   "outputs": [],
   "source": [
    "data_single_B_num"
   ]
  },
  {
   "cell_type": "markdown",
   "id": "4d498bf5",
   "metadata": {},
   "source": [
    "Looking at `offset` can help to group the F states."
   ]
  },
  {
   "cell_type": "code",
   "execution_count": null,
   "id": "d3faf889",
   "metadata": {},
   "outputs": [],
   "source": [
    "offset_single_B_num"
   ]
  },
  {
   "cell_type": "markdown",
   "id": "2ee5d912",
   "metadata": {},
   "source": [
    "However, a problem occurs once the energies of different mF states start to cross over! Lets look at the results of a range of values for B:"
   ]
  },
  {
   "cell_type": "code",
   "execution_count": null,
   "id": "45fa15e9",
   "metadata": {},
   "outputs": [],
   "source": [
    "B_range = np.linspace(0, 50, 1000) # G\n",
    "atom = sp.K40_4P_J32()\n",
    "\n",
    "data_B_range_num = sp.E_hf_numerical(B_range, atom)\n",
    "offset_B_range_num = sp.E_hf_numerical(np.zeros_like(B_range), atom)"
   ]
  },
  {
   "cell_type": "code",
   "execution_count": null,
   "id": "e4a0602d",
   "metadata": {},
   "outputs": [],
   "source": [
    "fig_3, ax = plt.subplots(1,1)\n",
    "ax.plot(B_range, data_B_range_num.T/constants.h*1e-6)\n",
    "ax.set_xlabel(\"B [G]\")\n",
    "ax.set_ylabel(\"state energy [MHz]\")\n",
    "plt.show()"
   ]
  },
  {
   "cell_type": "markdown",
   "id": "ed110eea",
   "metadata": {},
   "source": [
    "As a human, it is easy to identify the traces of each mF state. However, the computer orders the eigenvalues by magnitude, resulting in crooked lines. This is represented by the lines changing colors once they cross each other.\n",
    "\n",
    "To counter this, I created a function that looks at the gradients of the traces and re-orderes them:"
   ]
  },
  {
   "cell_type": "code",
   "execution_count": null,
   "id": "e29c2096",
   "metadata": {},
   "outputs": [],
   "source": [
    "B_range = np.arange(0, 50, 1e-3) # G\n",
    "atom = sp.K40_4P_J32()\n",
    "\n",
    "data_B_range_num = sp.E_hf_numerical(B_range, atom)\n",
    "reordered_data = sp.correct_traces(data_B_range_num)"
   ]
  },
  {
   "cell_type": "markdown",
   "id": "a980c021",
   "metadata": {},
   "source": [
    "IMPORTANT: The function only works if the sample count of the B range is very high (here 1000 samples/G)! Also, there is an optional parameter in `sp.correct_traces(data, limit)`. If there are errors, try to change `limit`. The default is `np.abs(np.diff(data, n=2, axis=1).mean()) + np.diff(data, n=2, axis=1).std()`."
   ]
  },
  {
   "cell_type": "code",
   "execution_count": null,
   "id": "096ebf8e",
   "metadata": {},
   "outputs": [],
   "source": [
    "fig_4, ax = plt.subplots(1,1)\n",
    "ax.plot(B_range, reordered_data.T/constants.h*1e-6)\n",
    "ax.set_xlabel(\"B [G]\")\n",
    "ax.set_ylabel(\"state energy [MHz]\")\n",
    "plt.show()"
   ]
  },
  {
   "cell_type": "markdown",
   "id": "566ba4f8",
   "metadata": {},
   "source": [
    "As visible in the plot, the traces are smooth now. This means that a single trace will always describe the same mF state. Still, it can be hard to figure out which state is which. To identify them, look at small values of B (ca. 5G). The index of each trace corresponds to its energy, ascending upwards."
   ]
  },
  {
   "cell_type": "code",
   "execution_count": null,
   "id": "811135e0",
   "metadata": {},
   "outputs": [],
   "source": [
    "reordered_data"
   ]
  },
  {
   "cell_type": "markdown",
   "id": "6371007a",
   "metadata": {},
   "source": [
    "## Extract energies of individual mF states at specific B fields\n",
    "\n",
    "If you are interested in |F, mF> states which cross over each other, make sure to calculate with a B range starting at 0, such that the reordering function correctly orderes the states.\n",
    "\n",
    "Here for example of the F=11/2, mF=-11/2 state (in MHz of course):"
   ]
  },
  {
   "cell_type": "code",
   "execution_count": null,
   "id": "dc2193da",
   "metadata": {},
   "outputs": [],
   "source": [
    "reordered_data[0][np.where(B_range==45)] / constants.h*1e-6"
   ]
  },
  {
   "cell_type": "markdown",
   "id": "0cdeed9b",
   "metadata": {},
   "source": [
    "Energy differences, here F=11/2, mF=-11/2 and mF=-9/2:"
   ]
  },
  {
   "cell_type": "code",
   "execution_count": null,
   "id": "13858857",
   "metadata": {},
   "outputs": [],
   "source": [
    "np.abs(reordered_data[0][np.where(B_range==45)] - reordered_data[1][np.where(B_range==45)]) / constants.h*1e-6"
   ]
  },
  {
   "cell_type": "code",
   "execution_count": null,
   "id": "3e460ec1",
   "metadata": {},
   "outputs": [],
   "source": []
  },
  {
   "cell_type": "code",
   "execution_count": null,
   "id": "322a23ef",
   "metadata": {},
   "outputs": [],
   "source": []
  }
 ],
 "metadata": {
  "kernelspec": {
   "display_name": "Python 3 (ipykernel)",
   "language": "python",
   "name": "python3"
  },
  "language_info": {
   "codemirror_mode": {
    "name": "ipython",
    "version": 3
   },
   "file_extension": ".py",
   "mimetype": "text/x-python",
   "name": "python",
   "nbconvert_exporter": "python",
   "pygments_lexer": "ipython3",
   "version": "3.9.6"
  }
 },
 "nbformat": 4,
 "nbformat_minor": 5
}
