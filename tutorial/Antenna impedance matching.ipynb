{
 "cells": [
  {
   "cell_type": "markdown",
   "id": "09556e96",
   "metadata": {},
   "source": [
    "# Tutorial: How to impedance match an rf antenna"
   ]
  },
  {
   "cell_type": "code",
   "execution_count": null,
   "id": "2d1a1a8c",
   "metadata": {},
   "outputs": [],
   "source": [
    "import numpy as np\n",
    "from pathlib import Path\n",
    "import skrf as rf\n",
    "import spin_tools as sp\n",
    "import matplotlib.pyplot as plt\n",
    "\n",
    "%matplotlib notebook\n",
    "%load_ext autoreload\n",
    "%autoreload 2"
   ]
  },
  {
   "cell_type": "markdown",
   "id": "12378964",
   "metadata": {},
   "source": [
    "Load a keystone file (.s1p) of an unmatched antenna which is created by a vector network analyzer (VNA). It describes the frequency dependent response to a rf signal. Note: pathname string should be a python raw string."
   ]
  },
  {
   "cell_type": "code",
   "execution_count": null,
   "id": "ca1152ba",
   "metadata": {},
   "outputs": [],
   "source": [
    "raw_antenna_file = Path(r\"example_antenna.s1p\")\n",
    "\n",
    "\n",
    "# define a network object\n",
    "raw_antenna_ntw = rf.Network(str(raw_antenna_file))\n",
    "frequency = raw_antenna_ntw.frequency\n",
    "\n",
    "# define the standard 50 Ohm cable which is used to connect to the antenna\n",
    "Z_0 = 50\n",
    "beta = frequency.w/rf.c\n",
    "line = rf.DefinedGammaZ0(frequency=frequency, gamma=1j*beta, z0=Z_0)\n"
   ]
  },
  {
   "cell_type": "markdown",
   "id": "581c5e6d",
   "metadata": {},
   "source": [
    "Overview over the measured raw antenna:"
   ]
  },
  {
   "cell_type": "code",
   "execution_count": null,
   "id": "23db257a",
   "metadata": {},
   "outputs": [],
   "source": [
    "raw_antenna_ntw"
   ]
  },
  {
   "cell_type": "markdown",
   "id": "e8dc2773",
   "metadata": {},
   "source": [
    "Reduce the number of data points to increase optimization speed.\n",
    "Select `f_start`and `f_end` such they are in the bounds of the frequency range of `raw_antenna_ntw`.\n",
    "Select `resolution` as desired. Lower values increase calculation speed, the result may be less accurate though."
   ]
  },
  {
   "cell_type": "code",
   "execution_count": null,
   "id": "2d424213",
   "metadata": {},
   "outputs": [],
   "source": [
    "f_start = 8 # MHz\n",
    "f_end = 12 # MHz\n",
    "resolution = 201\n",
    "\n",
    "# reduced frequency object\n",
    "frequency_reduced = rf.Frequency(f_start, f_end, 201, \"MHz\")\n",
    "\n",
    "# reduce network\n",
    "raw_ntw_reduced = raw_antenna_ntw.interpolate_from_f(frequency_reduced)\n"
   ]
  },
  {
   "cell_type": "markdown",
   "id": "9b08ffba",
   "metadata": {},
   "source": [
    "## Create a matching network\n",
    "\n",
    "In this step, you will create a function that contains the blueprint for a impedance matching network.\n",
    "A matching network function is structured as follows:"
   ]
  },
  {
   "cell_type": "code",
   "execution_count": null,
   "id": "aea0f098",
   "metadata": {},
   "outputs": [],
   "source": [
    "# the signature of the function is always the same, except for the name.\n",
    "def matching_network_example(line_, ntw_antenna, components):\n",
    "    # components is a tuple that contains the numerical values of the components of\n",
    "    # the circuit (capacitors and inductors). You can have as many components as you like,\n",
    "    # see other examples.\n",
    "    C1, C2 = components \n",
    "\n",
    "    # a small workaround to keep consistent structure, always include this line unmodified.\n",
    "    n = line_.resistor(1e-6)\n",
    "\n",
    "    # now, the actual structure of your matching network. The '**' operator appends components to the network,\n",
    "    # starting furthest from the antenna, so therefore closest to the rf power source.\n",
    "    # Available components are:\n",
    "        ## capacitor in series with the antenna: line_.capacitor()\n",
    "        ## inductor in series with the antenna: line_.inductor()\n",
    "        ## capacitor parallel to the antenna: line_.shunt_capacitor()\n",
    "        ## inductor parallel to the antenna: line_.shunt_inductor()\n",
    "    # As a parameter, each component gets one of the named components we extracted from the tuple above.\n",
    "    # Use *1e-12 for capacitors to get pF units, and *1e-9 for inductors to get nH units.\n",
    "\n",
    "    n = n**line_.shunt_capacitor(C1*1e-12)\n",
    "    n = n**line_.capacitor(C2*1e-12)\n",
    "\n",
    "    # Finally, the antenna is added to the network\n",
    "    n = n**ntw_antenna\n",
    "    return n"
   ]
  },
  {
   "cell_type": "markdown",
   "id": "8716afa9",
   "metadata": {},
   "source": [
    "Matching networks with 2 components are the simplest to implement in practice, but you can also simulate circtuis with more components. Like this:"
   ]
  },
  {
   "cell_type": "code",
   "execution_count": null,
   "id": "fde80d83",
   "metadata": {},
   "outputs": [],
   "source": [
    "def matching_network_4th_order_example(line_, ntw_antenna, components):\n",
    "    C1, C2, L1, L2 = components\n",
    "    n = line_.resistor(1e-6)\n",
    "    n = n**line_.capacitor(C1*1e-12)\n",
    "    n = n**line_.shunt_inductor(L1*1e-9)\n",
    "    n = n**line_.capacitor(C2*1e-12)\n",
    "    n = n**line_.shunt_inductor(L2*1e-9)\n",
    "    \n",
    "    n = n**ntw_antenna\n",
    "    return n"
   ]
  },
  {
   "cell_type": "markdown",
   "id": "1e48e1f9",
   "metadata": {},
   "source": [
    "# Actually optimizing the matching network\n",
    "Here I have defined many of the possible matching network configurations that have only 2 components. Of course, you can replace these with your own networks."
   ]
  },
  {
   "cell_type": "code",
   "execution_count": null,
   "id": "877f1398",
   "metadata": {},
   "outputs": [],
   "source": [
    "def matching_network_CC_1(line_, ntw_antenna, components):\n",
    "    C1, C2 = components\n",
    "    n = line_.resistor(1e-6)\n",
    "    n = n**line_.shunt_capacitor(C2*1e-12)\n",
    "    n = n**line_.capacitor(C1*1e-12)\n",
    "    \n",
    "    n = n**ntw_antenna\n",
    "    return n\n",
    "\n",
    "def matching_network_CC_2(line_, ntw_antenna, components):\n",
    "    C1, C2 = components\n",
    "    n = line_.resistor(1e-6)\n",
    "    n = n**line_.capacitor(C1*1e-12)\n",
    "    n = n**line_.shunt_capacitor(C2*1e-12)\n",
    "    \n",
    "    n = n**ntw_antenna\n",
    "    return n\n",
    "\n",
    "def matching_network_1(line_, ntw_antenna, components):\n",
    "    C1, C2 = components\n",
    "    n = line_.resistor(1e-6)\n",
    "    \n",
    "    n = n**line_.capacitor(C1*1e-12)\n",
    "    n = n**line_.shunt_inductor(C2*1e-9)\n",
    "    \n",
    "    n = n**ntw_antenna\n",
    "    return n\n",
    "\n",
    "def matching_network_4(line_, ntw_antenna, components):\n",
    "    C1, C2 = components\n",
    "    n = line_.resistor(1e-6)\n",
    "    \n",
    "    n = n**line_.shunt_capacitor(C1*1e-12)\n",
    "    n = n**line_.inductor(C2*1e-9)\n",
    "    \n",
    "    n = n**ntw_antenna\n",
    "    return n\n",
    "\n",
    "def matching_network_2(line_, ntw_antenna, components):\n",
    "    C1, C2 = components\n",
    "    n = line_.resistor(1e-6)\n",
    "    \n",
    "    n = n**line_.shunt_inductor(C2*1e-9) \n",
    "    n = n**line_.capacitor(C1*1e-12)\n",
    "    \n",
    "    n = n**ntw_antenna\n",
    "    return n\n",
    "\n",
    "def matching_network_3(line_, ntw_antenna, components):\n",
    "    C1, C2 = components\n",
    "    n = line_.resistor(1e-6)\n",
    "    \n",
    "    n = n**line_.inductor(C2*1e-9) \n",
    "    n = n**line_.shunt_capacitor(C1*1e-12)\n",
    "    \n",
    "    n = n**ntw_antenna\n",
    "    return n\n",
    "    "
   ]
  },
  {
   "cell_type": "markdown",
   "id": "502386fc",
   "metadata": {},
   "source": [
    "## Optimization"
   ]
  },
  {
   "cell_type": "code",
   "execution_count": null,
   "id": "ee9b3673",
   "metadata": {},
   "outputs": [],
   "source": [
    "### define parameters:\n",
    "\n",
    "# frequency range in which the antenna should be matched\n",
    "f_mask_start = 10.3e6\n",
    "f_mask_stop = 10.6e6\n",
    "\n",
    "f_mask = (f_mask_start, f_mask_stop)\n",
    "\n",
    "# List of matching network functions which you want to optimize.\n",
    "# All functions have to have the same number of components.\n",
    "\n",
    "matching_networks = [matching_network_1,\n",
    "                    matching_network_2,\n",
    "                    matching_network_3,\n",
    "                    matching_network_4]\n",
    "\n",
    "# define bounds for component values\n",
    "# for each component, a tuple containing lower and upper bound is required\n",
    "bounds = [\n",
    "    (1,5000), # component 1\n",
    "    (1,5000)  # component 2\n",
    "]"
   ]
  },
  {
   "cell_type": "code",
   "execution_count": null,
   "id": "797edbad",
   "metadata": {},
   "outputs": [],
   "source": [
    "results = sp.optimize_antenna(raw_ntw_reduced,\n",
    "                              bounds,\n",
    "                              matching_networks,\n",
    "                              f_mask)"
   ]
  },
  {
   "cell_type": "markdown",
   "id": "b6d45ce8",
   "metadata": {},
   "source": [
    "## Plot the results\n",
    "If for a matching network any of the component values hit a value we set for the lower or upper bound earlier, the result will not be the best possible result. In this case, either try to set larger bounds for the component values, increase the resolution of the simulation or consider a different matching network configuration."
   ]
  },
  {
   "cell_type": "code",
   "execution_count": null,
   "id": "1feafb97",
   "metadata": {},
   "outputs": [],
   "source": [
    "fig_1, ax = plt.subplots(1,1)\n",
    "for matching_network, res in zip(matching_networks, results):\n",
    "    return_loss = matching_network(line, raw_antenna_ntw, res.x).s_db.reshape(-1)\n",
    "    ax.plot(raw_antenna_ntw.frequency.f*1e-6, return_loss, label=f\"{matching_network.__name__}, comp.: {np.around(res.x,2)}\")\n",
    "ax.legend()\n",
    "plt.show()"
   ]
  },
  {
   "cell_type": "code",
   "execution_count": null,
   "id": "29645a5b",
   "metadata": {},
   "outputs": [],
   "source": []
  }
 ],
 "metadata": {
  "kernelspec": {
   "display_name": "Python 3 (ipykernel)",
   "language": "python",
   "name": "python3"
  },
  "language_info": {
   "codemirror_mode": {
    "name": "ipython",
    "version": 3
   },
   "file_extension": ".py",
   "mimetype": "text/x-python",
   "name": "python",
   "nbconvert_exporter": "python",
   "pygments_lexer": "ipython3",
   "version": "3.9.6"
  }
 },
 "nbformat": 4,
 "nbformat_minor": 5
}
