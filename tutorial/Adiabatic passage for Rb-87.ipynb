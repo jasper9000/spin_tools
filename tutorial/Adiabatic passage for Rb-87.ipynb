{
 "cells": [
  {
   "cell_type": "markdown",
   "id": "88b62592",
   "metadata": {},
   "source": [
    "# Tutorial: Calculate adiabatic passage plot for Rb-87\n",
    "\n",
    "The calculation is only available for Rb-87 because the numerical error in the calculation for K-40 is too large.\n",
    "This is due to the fundamental limitation of the taylor expansion used in the derivation. Just using higher order terms does not solve the problem as far as I can tell (unfortunately).\n",
    "\n",
    "You can try it with `sp.K40_4S_J12`, but do not expect the results to be accurate."
   ]
  },
  {
   "cell_type": "code",
   "execution_count": null,
   "id": "97732490",
   "metadata": {},
   "outputs": [],
   "source": [
    "# load libraries\n",
    "import numpy as np\n",
    "import spin_tools as sp\n",
    "import spin_tools.physics.constants as constants\n",
    "import matplotlib.pyplot as plt\n",
    "\n",
    "# magic\n",
    "%matplotlib notebook\n",
    "%load_ext autoreload\n",
    "%autoreload 2"
   ]
  },
  {
   "cell_type": "markdown",
   "id": "02b958b7",
   "metadata": {},
   "source": [
    "## 1.) antenna frequency sweep, fixed B field\n",
    "First, the relevant parameters are defined. The function `sp.adiabatic_passage_f_sweep(atom, F, resolution, frequency_range, B_0, B_rf)` creates and diagonalizes the Hamiltonian of the perturbed system for every antenna frequency defined by the range and resolution. The results are the eigenenergies of the system, which can be identified with the spin state components. The identification of the individual traces with the spin states has to be done manually."
   ]
  },
  {
   "cell_type": "code",
   "execution_count": null,
   "id": "e033fff0",
   "metadata": {},
   "outputs": [],
   "source": [
    "# define parameters\n",
    "atom = sp.Rb87_5S_J12()\n",
    "F = 2\n",
    "\n",
    "resolution = 1000\n",
    "frequency_range = 1e6 # Hz\n",
    "\n",
    "B_0 = 36 # bias field in z direction in G\n",
    "B_rf = 0.01 # antenna field strength in G\n",
    "\n",
    "# apply function\n",
    "energies, frequencies = sp.adiabatic_passage_f_sweep(atom, F, resolution, frequency_range, B_0, B_rf)"
   ]
  },
  {
   "cell_type": "code",
   "execution_count": null,
   "id": "efdfb04c",
   "metadata": {},
   "outputs": [],
   "source": [
    "fig_1, ax = plt.subplots(1,1)\n",
    "ax.plot(frequencies*1e-6, energies/constants.h*1e-6)\n",
    "ax.set_title(f\"B_0 = {B_0:.2f} G, B_rf = {B_rf:.2f} G\")\n",
    "ax.set_xlabel(\"antenna frequency [MHz]\")\n",
    "ax.set_ylabel(\"eigenstate energy [MHz]\")\n",
    "plt.show()"
   ]
  },
  {
   "cell_type": "markdown",
   "id": "35306c8f",
   "metadata": {},
   "source": [
    "## 2.) B field sweep, fixed antenna frequency\n",
    "Very similar to the function above, the only difference being different free parameters."
   ]
  },
  {
   "cell_type": "code",
   "execution_count": null,
   "id": "e6ab4973",
   "metadata": {},
   "outputs": [],
   "source": [
    "# define parameters\n",
    "atom = sp.Rb87_5S_J12()\n",
    "F = 2\n",
    "\n",
    "resolution = 1000\n",
    "B_field_range = 0.07 # G\n",
    "\n",
    "f = 10.5e6 # fixed antenna frequency, in Hz\n",
    "B_rf = 0.005 # antenna field strength in G\n",
    "\n",
    "# apply function\n",
    "energies, B_array = sp.adiabatic_passage_B_sweep(atom, F, resolution, B_field_range, f, B_rf)"
   ]
  },
  {
   "cell_type": "code",
   "execution_count": null,
   "id": "95bd3fba",
   "metadata": {},
   "outputs": [],
   "source": [
    "fig_2, ax = plt.subplots(1,1)\n",
    "ax.plot(B_array*1e4, energies/constants.h*1e-6)\n",
    "ax.set_title(f\"f= {f*1e-6:.2f} MHz, B_rf = {B_rf:.2f} G\")\n",
    "ax.set_xlabel(\"B_0 [G]\")\n",
    "ax.set_ylabel(\"eigenstate energy [MHz]\")\n",
    "plt.show()"
   ]
  },
  {
   "cell_type": "code",
   "execution_count": null,
   "id": "c2c4697e",
   "metadata": {},
   "outputs": [],
   "source": []
  },
  {
   "cell_type": "code",
   "execution_count": null,
   "id": "00e1f691",
   "metadata": {},
   "outputs": [],
   "source": []
  }
 ],
 "metadata": {
  "kernelspec": {
   "display_name": "Python 3 (ipykernel)",
   "language": "python",
   "name": "python3"
  },
  "language_info": {
   "codemirror_mode": {
    "name": "ipython",
    "version": 3
   },
   "file_extension": ".py",
   "mimetype": "text/x-python",
   "name": "python",
   "nbconvert_exporter": "python",
   "pygments_lexer": "ipython3",
   "version": "3.9.6"
  }
 },
 "nbformat": 4,
 "nbformat_minor": 5
}
